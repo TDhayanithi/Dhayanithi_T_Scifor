{
 "cells": [
  {
   "cell_type": "markdown",
   "id": "cfb2f1a4",
   "metadata": {},
   "source": [
    "## 1. Reverse a string using a for loop in Python."
   ]
  },
  {
   "cell_type": "code",
   "execution_count": 1,
   "id": "0642ea22",
   "metadata": {},
   "outputs": [
    {
     "name": "stdout",
     "output_type": "stream",
     "text": [
      "Enter a string: Rainbow\n",
      "Reversed string: wobniaR\n"
     ]
    }
   ],
   "source": [
    "def reverse_string(input_string):\n",
    "    reversed_string = ''.join(char for char in reversed(input_string))\n",
    "    return reversed_string\n",
    "\n",
    "user = input(\"Enter a string: \")\n",
    "\n",
    "result = reverse_string(user)\n",
    "print(\"Reversed string:\", result)"
   ]
  },
  {
   "cell_type": "markdown",
   "id": "dd55ab00",
   "metadata": {},
   "source": [
    "## 2. Write a Python program to find the sum of all numbers in a list using a for loop."
   ]
  },
  {
   "cell_type": "code",
   "execution_count": 2,
   "id": "30c99fe9",
   "metadata": {},
   "outputs": [
    {
     "name": "stdout",
     "output_type": "stream",
     "text": [
      "Sum of numbers in the list: 15\n"
     ]
    }
   ],
   "source": [
    "def sum_of_numbers(numbers):\n",
    "    total_sum = 0\n",
    "    for num in numbers:\n",
    "        total_sum += num\n",
    "    return total_sum\n",
    "\n",
    "numbers_list = [1, 2, 3, 4, 5]\n",
    "\n",
    "result = sum_of_numbers(numbers_list)\n",
    "print(\"Sum of numbers in the list:\", result)"
   ]
  },
  {
   "cell_type": "markdown",
   "id": "7e8b4061",
   "metadata": {},
   "source": [
    "## 3. Write a Python program that checks whether a given number is even or odd using an if-else statement."
   ]
  },
  {
   "cell_type": "code",
   "execution_count": 3,
   "id": "8eba7fdf",
   "metadata": {},
   "outputs": [
    {
     "name": "stdout",
     "output_type": "stream",
     "text": [
      "Enter the Number:7\n",
      "The number is Odd\n"
     ]
    }
   ],
   "source": [
    "num = int(input('Enter the Number:'))\n",
    "\n",
    "if num % 2 == 0:\n",
    "    print('The number is Even')\n",
    "else:\n",
    "    print('The number is Odd')"
   ]
  },
  {
   "cell_type": "markdown",
   "id": "0349de63",
   "metadata": {},
   "source": [
    "## 4. Implement a program to determine if a year is a leap year or not using if-elif-else statements."
   ]
  },
  {
   "cell_type": "code",
   "execution_count": 4,
   "id": "a76f1602",
   "metadata": {},
   "outputs": [
    {
     "name": "stdout",
     "output_type": "stream",
     "text": [
      "Enter the year:2024\n",
      "2024 is a Leap Year\n"
     ]
    }
   ],
   "source": [
    "year = int(input('Enter the year:'))\n",
    "\n",
    "if (year % 400 == 0) and (year % 100 == 0):\n",
    "    print('{0} is a Leap Year'.format(year))\n",
    "elif (year % 4 == 0) and (year % 100 != 0):\n",
    "    print('{0} is a Leap Year'.format(year))\n",
    "else:\n",
    "    print('{0} is not a Leap Year'.format(year))"
   ]
  },
  {
   "cell_type": "markdown",
   "id": "7d590c60",
   "metadata": {},
   "source": [
    "## 5. Use a lambda function to square each element in a list"
   ]
  },
  {
   "cell_type": "code",
   "execution_count": 5,
   "id": "c7bcccde",
   "metadata": {},
   "outputs": [
    {
     "name": "stdout",
     "output_type": "stream",
     "text": [
      "Original list: [1, 2, 3, 4, 5]\n",
      "Squared list: [1, 4, 9, 16, 25]\n"
     ]
    }
   ],
   "source": [
    "numbers = [1, 2, 3, 4, 5]\n",
    "\n",
    "squared_numbers = list(map(lambda x: x**2, numbers))\n",
    "\n",
    "print(\"Original list:\", numbers)\n",
    "print(\"Squared list:\", squared_numbers)\n"
   ]
  },
  {
   "cell_type": "markdown",
   "id": "50e0a493",
   "metadata": {},
   "source": [
    "## 6. Write a lambda function to calculate the product of two"
   ]
  },
  {
   "cell_type": "code",
   "execution_count": 8,
   "id": "9daf5cba",
   "metadata": {},
   "outputs": [
    {
     "name": "stdout",
     "output_type": "stream",
     "text": [
      "Enter the value of a:6\n",
      "Enter the value of b:8\n",
      "The Product of a and b is [48]\n"
     ]
    }
   ],
   "source": [
    "a = int(input('Enter the value of a:'))\n",
    "b = int(input('Enter the value of b:'))\n",
    "\n",
    "result = list(map(lambda a,b: a*b, [a],[b]))\n",
    "\n",
    "print(f'The Product of a and b is {result}')"
   ]
  },
  {
   "cell_type": "code",
   "execution_count": null,
   "id": "7b73bdfb",
   "metadata": {},
   "outputs": [],
   "source": []
  }
 ],
 "metadata": {
  "kernelspec": {
   "display_name": "Python 3 (ipykernel)",
   "language": "python",
   "name": "python3"
  },
  "language_info": {
   "codemirror_mode": {
    "name": "ipython",
    "version": 3
   },
   "file_extension": ".py",
   "mimetype": "text/x-python",
   "name": "python",
   "nbconvert_exporter": "python",
   "pygments_lexer": "ipython3",
   "version": "3.9.13"
  }
 },
 "nbformat": 4,
 "nbformat_minor": 5
}
