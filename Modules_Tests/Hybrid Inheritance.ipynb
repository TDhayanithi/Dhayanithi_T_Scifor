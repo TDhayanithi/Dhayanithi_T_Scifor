{
 "cells": [
  {
   "cell_type": "markdown",
   "id": "1f3fbdb7-4c1a-4a56-af41-6718fa00f33f",
   "metadata": {},
   "source": [
    "#### Hybrid inheritance is a combination of multiple and multilevel inheritance. It involves inheriting from multiple base classes as well as extending the inheritance hierarchy by creating sub-classes."
   ]
  },
  {
   "cell_type": "code",
   "execution_count": 1,
   "id": "af348143-7164-4512-942a-5cee58ef3559",
   "metadata": {},
   "outputs": [
    {
     "name": "stdout",
     "output_type": "stream",
     "text": [
      "Method of class A\n",
      "Method of class B\n",
      "Method of class C\n",
      "Method of class D\n"
     ]
    }
   ],
   "source": [
    "class A:\n",
    "    def method_A(self):\n",
    "        print(\"Method of class A\")\n",
    "\n",
    "class B(A):\n",
    "    def method_B(self):\n",
    "        print(\"Method of class B\")\n",
    "\n",
    "class C(A):\n",
    "    def method_C(self):\n",
    "        print(\"Method of class C\")\n",
    "\n",
    "class D(B, C):\n",
    "    def method_D(self):\n",
    "        print(\"Method of class D\")\n",
    "\n",
    "# Creating an object of class D and calling methods\n",
    "obj_D = D()\n",
    "obj_D.method_A()  # Output: Method of class A\n",
    "obj_D.method_B()  # Output: Method of class B\n",
    "obj_D.method_C()  # Output: Method of class C\n",
    "obj_D.method_D()  # Output: Method of class D\n"
   ]
  },
  {
   "cell_type": "code",
   "execution_count": null,
   "id": "1a60ba50-50d0-433a-a4b8-449475769240",
   "metadata": {},
   "outputs": [],
   "source": []
  }
 ],
 "metadata": {
  "kernelspec": {
   "display_name": "Python 3 (ipykernel)",
   "language": "python",
   "name": "python3"
  },
  "language_info": {
   "codemirror_mode": {
    "name": "ipython",
    "version": 3
   },
   "file_extension": ".py",
   "mimetype": "text/x-python",
   "name": "python",
   "nbconvert_exporter": "python",
   "pygments_lexer": "ipython3",
   "version": "3.11.4"
  }
 },
 "nbformat": 4,
 "nbformat_minor": 5
}
