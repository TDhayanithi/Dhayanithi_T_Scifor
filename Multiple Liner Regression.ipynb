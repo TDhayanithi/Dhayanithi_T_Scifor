{
 "cells": [
  {
   "cell_type": "code",
   "execution_count": 1,
   "id": "9c6b2a73",
   "metadata": {},
   "outputs": [],
   "source": [
    "import warnings\n",
    "warnings.filterwarnings('ignore')\n",
    "import numpy as np\n",
    "import pandas as pd\n",
    "from sklearn.datasets import load_boston\n",
    "from sklearn.model_selection import train_test_split\n",
    "from sklearn.preprocessing import StandardScaler"
   ]
  },
  {
   "cell_type": "code",
   "execution_count": 2,
   "id": "9f824d6d",
   "metadata": {},
   "outputs": [],
   "source": [
    "# Load the Boston Housing dataset\n",
    "boston = load_boston()"
   ]
  },
  {
   "cell_type": "code",
   "execution_count": 3,
   "id": "19077f83",
   "metadata": {},
   "outputs": [],
   "source": [
    "# Extract features (X) and target variable (y)\n",
    "X = boston.data\n",
    "y = boston.target"
   ]
  },
  {
   "cell_type": "code",
   "execution_count": 4,
   "id": "a22cea3c",
   "metadata": {},
   "outputs": [],
   "source": [
    "# Split the dataset into training and testing sets\n",
    "X_train, X_test, y_train, y_test = train_test_split(X, y, test_size=0.2, random_state=42)"
   ]
  },
  {
   "cell_type": "code",
   "execution_count": 5,
   "id": "adc5eeb5",
   "metadata": {},
   "outputs": [],
   "source": [
    "# Standardize features\n",
    "scaler = StandardScaler()\n",
    "X_train_scaled = scaler.fit_transform(X_train)\n",
    "X_test_scaled = scaler.transform(X_test)"
   ]
  },
  {
   "cell_type": "code",
   "execution_count": 6,
   "id": "35e47b5a",
   "metadata": {},
   "outputs": [],
   "source": [
    "# Add intercept term to X_train\n",
    "intercept = np.ones((X_train_scaled.shape[0], 1))\n",
    "X_train_scaled = np.concatenate((intercept, X_train_scaled), axis=1)"
   ]
  },
  {
   "cell_type": "code",
   "execution_count": 7,
   "id": "3812e646",
   "metadata": {},
   "outputs": [],
   "source": [
    "# Function to compute mean squared error\n",
    "def compute_mse(y_true, y_pred):\n",
    "    return np.mean((y_true - y_pred) ** 2)"
   ]
  },
  {
   "cell_type": "code",
   "execution_count": 8,
   "id": "5630120e",
   "metadata": {},
   "outputs": [],
   "source": [
    "# Function to perform gradient descent for multiple linear regression\n",
    "def gradient_descent(X, y, learning_rate, num_iterations):\n",
    "    num_samples, num_features = X.shape\n",
    "    theta = np.zeros(num_features)  # Initialize parameters with zeros\n",
    "    \n",
    "    for i in range(num_iterations):\n",
    "        # Calculate predictions\n",
    "        predictions = np.dot(X, theta)\n",
    "        \n",
    "        # Calculate error\n",
    "        error = predictions - y\n",
    "        \n",
    "        # Calculate gradients\n",
    "        gradients = (1/num_samples) * np.dot(X.T, error)\n",
    "        \n",
    "        # Update parameters\n",
    "        theta -= learning_rate * gradients\n",
    "        \n",
    "        # Print MSE every 100 iterations\n",
    "        if i % 100 == 0:\n",
    "            mse = compute_mse(y, np.dot(X, theta))\n",
    "            print(f\"Iteration {i}, MSE: {mse}\")\n",
    "    \n",
    "    return theta"
   ]
  },
  {
   "cell_type": "code",
   "execution_count": 9,
   "id": "9f88daea",
   "metadata": {},
   "outputs": [
    {
     "name": "stdout",
     "output_type": "stream",
     "text": [
      "Iteration 0, MSE: 591.800632334655\n",
      "Iteration 100, MSE: 94.72013035974838\n",
      "Iteration 200, MSE: 32.59418905610845\n",
      "Iteration 300, MSE: 24.003089771852146\n",
      "Iteration 400, MSE: 22.63492554426304\n",
      "Iteration 500, MSE: 22.298867468455693\n",
      "Iteration 600, MSE: 22.1431819037471\n",
      "Iteration 700, MSE: 22.03998702641069\n",
      "Iteration 800, MSE: 21.963689447904155\n",
      "Iteration 900, MSE: 21.905304156403805\n"
     ]
    }
   ],
   "source": [
    "# Perform gradient descent\n",
    "learning_rate = 0.01\n",
    "num_iterations = 1000\n",
    "theta = gradient_descent(X_train_scaled, y_train, learning_rate, num_iterations)"
   ]
  },
  {
   "cell_type": "code",
   "execution_count": 10,
   "id": "1e7dc441",
   "metadata": {},
   "outputs": [],
   "source": [
    "# Add intercept term to X_test\n",
    "intercept = np.ones((X_test_scaled.shape[0], 1))\n",
    "X_test_scaled = np.concatenate((intercept, X_test_scaled), axis=1)"
   ]
  },
  {
   "cell_type": "code",
   "execution_count": 11,
   "id": "62a70e2a",
   "metadata": {},
   "outputs": [],
   "source": [
    "# Make predictions on test set\n",
    "predictions = np.dot(X_test_scaled, theta)"
   ]
  },
  {
   "cell_type": "code",
   "execution_count": 12,
   "id": "4f82dc28",
   "metadata": {},
   "outputs": [
    {
     "name": "stdout",
     "output_type": "stream",
     "text": [
      "Test MSE: 25.34969307651813\n"
     ]
    }
   ],
   "source": [
    "# Compute MSE on test set\n",
    "mse_test = compute_mse(y_test, predictions)\n",
    "print(f\"Test MSE: {mse_test}\")"
   ]
  },
  {
   "cell_type": "code",
   "execution_count": null,
   "id": "47693e27",
   "metadata": {},
   "outputs": [],
   "source": []
  }
 ],
 "metadata": {
  "kernelspec": {
   "display_name": "Python 3 (ipykernel)",
   "language": "python",
   "name": "python3"
  },
  "language_info": {
   "codemirror_mode": {
    "name": "ipython",
    "version": 3
   },
   "file_extension": ".py",
   "mimetype": "text/x-python",
   "name": "python",
   "nbconvert_exporter": "python",
   "pygments_lexer": "ipython3",
   "version": "3.9.13"
  }
 },
 "nbformat": 4,
 "nbformat_minor": 5
}
